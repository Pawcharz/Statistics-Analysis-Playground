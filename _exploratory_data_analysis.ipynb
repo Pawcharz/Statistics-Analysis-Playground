{
 "cells": [
  {
   "cell_type": "markdown",
   "metadata": {},
   "source": [
    "### Import necessary modules"
   ]
  },
  {
   "cell_type": "code",
   "execution_count": null,
   "metadata": {},
   "outputs": [],
   "source": [
    "import numpy as np\n",
    "import pandas as pd\n",
    "import matplotlib.pyplot as plt\n",
    "import seaborn as sns"
   ]
  },
  {
   "cell_type": "markdown",
   "metadata": {},
   "source": [
    "### Loading Datasets"
   ]
  },
  {
   "cell_type": "code",
   "execution_count": null,
   "metadata": {},
   "outputs": [],
   "source": [
    "train_df = pd.read_csv('./train.csv')\n",
    "test_df = pd.read_csv('./test.csv')"
   ]
  },
  {
   "cell_type": "code",
   "execution_count": null,
   "metadata": {},
   "outputs": [],
   "source": [
    "temp = train_df.groupby(\"Sex\")[\"Age\"].mean().to_frame().reset_index()\n",
    "temp = temp.rename(columns={\"Age\": \"mean age\"})\n",
    "temp"
   ]
  },
  {
   "cell_type": "code",
   "execution_count": null,
   "metadata": {},
   "outputs": [],
   "source": [
    "train_df.head(5)"
   ]
  },
  {
   "cell_type": "code",
   "execution_count": null,
   "metadata": {},
   "outputs": [],
   "source": [
    "print(\"The shape of the train data is (row, column):\"+ str(train_df.shape))\n",
    "print(train_df.info())\n",
    "print(\"\\n\",\"*\"*40, \"\\n\")\n",
    "print(\"The shape of the test data is (row, column):\"+ str(test_df.shape))\n",
    "print(test_df.info())"
   ]
  },
  {
   "cell_type": "markdown",
   "metadata": {},
   "source": [
    "### Few words about variables:"
   ]
  },
  {
   "cell_type": "markdown",
   "metadata": {},
   "source": [
    "- ##### Categorical:\n",
    "  - **Nominal**:\n",
    "    - **Cabin**\n",
    "    - **Embarked**(Port of Embarkation):\n",
    "      - C(Cherbourg)\n",
    "      - Q(Queenstown)\n",
    "      - S(Southampton)\n",
    "    - **Sex** (also **Dichotomous**) - \"Female\" or \"Male\"\n",
    "  ---\n",
    "  - **Ordinal** (variables that have two or more categories just like nominal variables. Only the categories can also be ordered or ranked.)\n",
    "    - **Pclass** (A proxy for socio-economic status (SES)): \n",
    "      - 1 (Upper)\n",
    "      - 2 (Middle) \n",
    "      - 3 (Lower)\n",
    "  ---\n",
    "  - **Numeric**:\n",
    "    - **Discrete**:\n",
    "      - **Passenger** ID(Unique identifing # for each passenger)\n",
    "      - **SibSp**\n",
    "      - **Parch**\n",
    "      - **Survived** (Our outcome or dependent variable)\n",
    "    - **Continuous**:\n",
    "      - **Age**\n",
    "      - **Fare**\n",
    "  ---\n",
    "- ##### Text Variable:\n",
    "  - **Ticket** (Ticket number for passenger.)\n",
    "  - **Name** ( Name of the passenger.) "
   ]
  },
  {
   "cell_type": "markdown",
   "metadata": {},
   "source": [
    "### Visualization of the Data"
   ]
  },
  {
   "cell_type": "markdown",
   "metadata": {},
   "source": [
    "#### How many Survived??"
   ]
  },
  {
   "cell_type": "code",
   "execution_count": null,
   "metadata": {},
   "outputs": [],
   "source": [
    "f, ax = plt.subplots(1, 3, figsize=(18,8))\n",
    "train_df['Survived'].value_counts().plot.pie(\n",
    "  explode=[0,0.1],\n",
    "  autopct='%1.1f%%',\n",
    "  ax=ax[0],\n",
    "  shadow=True\n",
    ")\n",
    "\n",
    "ax[0].set_title('Survived')\n",
    "ax[0].set_ylabel('')\n",
    "sns.countplot(\n",
    "  x=train_df[\"Survived\"],\n",
    "  ax=ax[1]\n",
    ")\n",
    "ax[1].set_title('Survived')\n",
    "plt.show()"
   ]
  },
  {
   "cell_type": "markdown",
   "metadata": {},
   "source": [
    "#### Survived by Sex"
   ]
  },
  {
   "cell_type": "code",
   "execution_count": null,
   "metadata": {},
   "outputs": [],
   "source": [
    "f, ax = plt.subplots(1, 2, figsize=(10, 5))\n",
    "\n",
    "train_df[['Sex','Survived']].groupby(['Sex']).mean().plot.bar(ax=ax[0])\n",
    "ax[0].set_title('Survieal rate by Sex')\n",
    "\n",
    "sns.countplot(data=train_df, x=\"Sex\", hue=\"Survived\", ax=ax[1])\n",
    "ax[1].set_title('Survived vs Dead by Sex')"
   ]
  },
  {
   "cell_type": "markdown",
   "metadata": {},
   "source": [
    "We can see that even though there is way more men on the ship. Survival rate for women is around 3 times greater than for men and countwise, thre were ~2 times more saved women than men"
   ]
  },
  {
   "cell_type": "code",
   "execution_count": null,
   "metadata": {},
   "outputs": [],
   "source": [
    "pd.crosstab(train_df[\"Pclass\"], train_df.Survived,margins=True).style.background_gradient(cmap='summer_r')"
   ]
  },
  {
   "cell_type": "code",
   "execution_count": null,
   "metadata": {},
   "outputs": [],
   "source": [
    "f, ax = plt.subplots(1, 2, figsize=(15, 5))\n",
    "\n",
    "# train_df[['Pclass','Survived']].groupby(['Pclass']).mean().plot(ax=ax[0])\n",
    "sns.countplot(data=train_df, x=\"Pclass\", ax=ax[0])\n",
    "ax[0].set_title('# of passangers by each class')\n",
    "\n",
    "train_df[['Pclass','Survived']].groupby(['Pclass']).mean().plot.bar(ax=ax[1])\n",
    "ax[1].set_title('Survival rate by economic class')"
   ]
  },
  {
   "cell_type": "code",
   "execution_count": null,
   "metadata": {},
   "outputs": [],
   "source": [
    "sns.catplot(data=train_df, x=\"Pclass\", y=\"Survived\", hue=\"Sex\", kind=\"point\")\n",
    "plt.title('# of passangers by each class')\n",
    "plt.show()"
   ]
  },
  {
   "cell_type": "markdown",
   "metadata": {},
   "source": [
    "#### Analyzing age"
   ]
  },
  {
   "cell_type": "code",
   "execution_count": null,
   "metadata": {},
   "outputs": [],
   "source": [
    "print('Oldest Passenger was of:', train_df['Age'].max(), 'Years')\n",
    "print('Youngest Passenger was of:', train_df['Age'].min(), 'Years')\n",
    "print('Average Age on the ship:', train_df['Age'].mean(), 'Years')"
   ]
  },
  {
   "cell_type": "code",
   "execution_count": null,
   "metadata": {},
   "outputs": [],
   "source": [
    "f,ax=plt.subplots(1, 2, figsize=(12,5))\n",
    "\n",
    "sns.violinplot(x=\"Pclass\", y=\"Age\", hue=\"Survived\", data=train_df, split=True,ax=ax[0])\n",
    "ax[0].set_title(\"Distributons of Age for Pclass and survival status\")\n",
    "ax[0].set_yticks(range(0,110,10))\n",
    "sns.violinplot(x=\"Sex\", y=\"Age\", hue=\"Survived\", data=train_df, split=True,ax=ax[1])\n",
    "ax[1].set_title(\"Distributons of Age for Sex and survival status\")\n",
    "ax[1].set_yticks(range(0,110,10))\n",
    "plt.show()"
   ]
  },
  {
   "cell_type": "markdown",
   "metadata": {},
   "source": [
    "1) The number of children increases with Pclass and the survival rate for passenegers below Age 10(i.e children) looks to be good irrespective of the Pclass.\n",
    "\n",
    "2) Survival chances for Passenegers aged 20-50 from Pclass1 is high and is even better for Women.\n",
    "\n",
    "3) For males, the survival chances decreases with an increase in age."
   ]
  },
  {
   "cell_type": "markdown",
   "metadata": {},
   "source": [
    "#### Dealing with NaN age values\n",
    "\n",
    "We can check the Name feature. Looking upon the feature, we can see that the names have a salutation like Mr or Mrs. Thus we can assign the mean values of Mr and Mrs to the respective groups."
   ]
  },
  {
   "cell_type": "code",
   "execution_count": null,
   "metadata": {},
   "outputs": [],
   "source": [
    "train_df['Salutation'] = 0\n",
    "for i in train_df:\n",
    "  train_df['Salutation'] = train_df.Name.str.extract('([A-Za-z]+)\\.') # lets extract the Salutations"
   ]
  },
  {
   "cell_type": "code",
   "execution_count": null,
   "metadata": {},
   "outputs": [],
   "source": [
    "pd.crosstab(train_df.Salutation, train_df.Sex).T.style.background_gradient(cmap='summer_r') #Checking the Initials with the Sex"
   ]
  },
  {
   "cell_type": "markdown",
   "metadata": {},
   "source": [
    "##### Replacing misspelled initials like \"Mlle\" or \"Mme\" that stand for \"Miss\"."
   ]
  },
  {
   "cell_type": "code",
   "execution_count": null,
   "metadata": {},
   "outputs": [],
   "source": [
    "train_df['Salutation'].replace(\n",
    "  ['Mlle','Mme','Ms','Dr','Major','Lady','Countess','Jonkheer','Col','Rev','Capt','Sir','Don'],\n",
    "  ['Miss','Miss','Miss','Mr','Mr','Mrs','Mrs','Other','Other','Other','Mr','Mr','Mr'],\n",
    "  inplace=True\n",
    ")"
   ]
  },
  {
   "cell_type": "code",
   "execution_count": null,
   "metadata": {},
   "outputs": [],
   "source": [
    "# lets check the average age by Initials\n",
    "mean_age_by_salutations = train_df.groupby('Salutation')['Age'].mean()\n",
    "mean_age_by_salutations"
   ]
  },
  {
   "cell_type": "markdown",
   "metadata": {},
   "source": [
    "##### Filling NaN Ages"
   ]
  },
  {
   "cell_type": "code",
   "execution_count": null,
   "metadata": {},
   "outputs": [],
   "source": [
    "for i in range(len(train_df)):\n",
    "  if pd.isnull(train_df['Age'][i]):\n",
    "    train_df['Age'][i] = mean_age_by_salutations[train_df['Salutation'][i]]"
   ]
  }
 ],
 "metadata": {
  "kernelspec": {
   "display_name": "base",
   "language": "python",
   "name": "python3"
  },
  "language_info": {
   "codemirror_mode": {
    "name": "ipython",
    "version": 3
   },
   "file_extension": ".py",
   "mimetype": "text/x-python",
   "name": "python",
   "nbconvert_exporter": "python",
   "pygments_lexer": "ipython3",
   "version": "3.10.9"
  },
  "orig_nbformat": 4
 },
 "nbformat": 4,
 "nbformat_minor": 2
}
